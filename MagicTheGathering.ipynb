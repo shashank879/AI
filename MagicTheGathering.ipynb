{
 "cells": [
  {
   "cell_type": "code",
   "execution_count": 1,
   "metadata": {
    "collapsed": false
   },
   "outputs": [
    {
     "name": "stderr",
     "output_type": "stream",
     "text": [
      "Using TensorFlow backend.\n"
     ]
    }
   ],
   "source": [
    "import os\n",
    "import sys\n",
    "import pandas as pd\n",
    "import numpy as np\n",
    "import matplotlib.pyplot as plt\n",
    "import urllib.request as req\n",
    "from PIL import Image\n",
    "from keras.models import Sequential\n",
    "from keras.layers import Dense\n",
    "from keras.layers import Dropout\n",
    "from keras.layers import LSTM\n",
    "from keras.callbacks import ModelCheckpoint\n",
    "from keras.utils import np_utils"
   ]
  },
  {
   "cell_type": "code",
   "execution_count": 2,
   "metadata": {
    "collapsed": true
   },
   "outputs": [],
   "source": [
    "# Dataset from mtgjson.com\n",
    "raw = pd.read_json(\"./data/mtg/AllSets-x.json\")"
   ]
  },
  {
   "cell_type": "code",
   "execution_count": 3,
   "metadata": {
    "collapsed": false,
    "scrolled": true
   },
   "outputs": [
    {
     "data": {
      "text/html": [
       "<div>\n",
       "<table border=\"1\" class=\"dataframe\">\n",
       "  <thead>\n",
       "    <tr style=\"text-align: right;\">\n",
       "      <th></th>\n",
       "      <th>10E</th>\n",
       "      <th>2ED</th>\n",
       "      <th>3ED</th>\n",
       "      <th>4ED</th>\n",
       "      <th>5DN</th>\n",
       "      <th>5ED</th>\n",
       "      <th>6ED</th>\n",
       "      <th>7ED</th>\n",
       "      <th>8ED</th>\n",
       "      <th>9ED</th>\n",
       "      <th>...</th>\n",
       "      <th>pPOD</th>\n",
       "      <th>pPRE</th>\n",
       "      <th>pPRO</th>\n",
       "      <th>pREL</th>\n",
       "      <th>pSUM</th>\n",
       "      <th>pSUS</th>\n",
       "      <th>pWCQ</th>\n",
       "      <th>pWOR</th>\n",
       "      <th>pWOS</th>\n",
       "      <th>pWPN</th>\n",
       "    </tr>\n",
       "  </thead>\n",
       "  <tbody>\n",
       "    <tr>\n",
       "      <th>block</th>\n",
       "      <td>NaN</td>\n",
       "      <td>NaN</td>\n",
       "      <td>NaN</td>\n",
       "      <td>NaN</td>\n",
       "      <td>Mirrodin</td>\n",
       "      <td>NaN</td>\n",
       "      <td>NaN</td>\n",
       "      <td>NaN</td>\n",
       "      <td>NaN</td>\n",
       "      <td>NaN</td>\n",
       "      <td>...</td>\n",
       "      <td>NaN</td>\n",
       "      <td>NaN</td>\n",
       "      <td>NaN</td>\n",
       "      <td>NaN</td>\n",
       "      <td>NaN</td>\n",
       "      <td>NaN</td>\n",
       "      <td>NaN</td>\n",
       "      <td>NaN</td>\n",
       "      <td>NaN</td>\n",
       "      <td>NaN</td>\n",
       "    </tr>\n",
       "    <tr>\n",
       "      <th>booster</th>\n",
       "      <td>[rare, uncommon, uncommon, uncommon, common, c...</td>\n",
       "      <td>[rare, uncommon, uncommon, uncommon, common, c...</td>\n",
       "      <td>[rare, uncommon, uncommon, uncommon, common, c...</td>\n",
       "      <td>[rare, uncommon, uncommon, uncommon, common, c...</td>\n",
       "      <td>[rare, uncommon, uncommon, uncommon, common, c...</td>\n",
       "      <td>[rare, uncommon, uncommon, uncommon, common, c...</td>\n",
       "      <td>[rare, uncommon, uncommon, uncommon, common, c...</td>\n",
       "      <td>[rare, uncommon, uncommon, uncommon, common, c...</td>\n",
       "      <td>[rare, uncommon, uncommon, uncommon, common, c...</td>\n",
       "      <td>[rare, uncommon, uncommon, uncommon, common, c...</td>\n",
       "      <td>...</td>\n",
       "      <td>NaN</td>\n",
       "      <td>NaN</td>\n",
       "      <td>NaN</td>\n",
       "      <td>NaN</td>\n",
       "      <td>NaN</td>\n",
       "      <td>NaN</td>\n",
       "      <td>NaN</td>\n",
       "      <td>NaN</td>\n",
       "      <td>NaN</td>\n",
       "      <td>NaN</td>\n",
       "    </tr>\n",
       "    <tr>\n",
       "      <th>border</th>\n",
       "      <td>black</td>\n",
       "      <td>white</td>\n",
       "      <td>white</td>\n",
       "      <td>white</td>\n",
       "      <td>black</td>\n",
       "      <td>white</td>\n",
       "      <td>white</td>\n",
       "      <td>white</td>\n",
       "      <td>white</td>\n",
       "      <td>white</td>\n",
       "      <td>...</td>\n",
       "      <td>black</td>\n",
       "      <td>black</td>\n",
       "      <td>black</td>\n",
       "      <td>black</td>\n",
       "      <td>black</td>\n",
       "      <td>black</td>\n",
       "      <td>black</td>\n",
       "      <td>black</td>\n",
       "      <td>black</td>\n",
       "      <td>black</td>\n",
       "    </tr>\n",
       "    <tr>\n",
       "      <th>cards</th>\n",
       "      <td>[{'imageName': 'ancestor's chosen', 'manaCost'...</td>\n",
       "      <td>[{'imageName': 'air elemental', 'manaCost': '{...</td>\n",
       "      <td>[{'imageName': 'air elemental', 'manaCost': '{...</td>\n",
       "      <td>[{'imageName': 'abomination', 'manaCost': '{3}...</td>\n",
       "      <td>[{'imageName': 'abuna's chant', 'manaCost': '{...</td>\n",
       "      <td>[{'imageName': 'abbey gargoyles', 'manaCost': ...</td>\n",
       "      <td>[{'imageName': 'animate wall', 'manaCost': '{W...</td>\n",
       "      <td>[{'imageName': 'angelic page', 'manaCost': '{1...</td>\n",
       "      <td>[{'imageName': 'angel of mercy', 'manaCost': '...</td>\n",
       "      <td>[{'imageName': 'angel of mercy', 'manaCost': '...</td>\n",
       "      <td>...</td>\n",
       "      <td>[{'imageName': 'armored pegasus', 'manaCost': ...</td>\n",
       "      <td>[{'imageName': 'dirtcowl wurm', 'manaCost': '{...</td>\n",
       "      <td>[{'imageName': 'eternal dragon', 'manaCost': '...</td>\n",
       "      <td>[{'imageName': 'rukh egg', 'manaCost': '{3}{R}...</td>\n",
       "      <td>[{'imageName': 'faerie conclave', 'artist': 'S...</td>\n",
       "      <td>[{'imageName': 'thran quarry', 'layout': 'norm...</td>\n",
       "      <td>[{'imageName': 'vengevine', 'manaCost': '{2}{G...</td>\n",
       "      <td>[{'imageName': 'balduvian horde', 'manaCost': ...</td>\n",
       "      <td>[{'imageName': 'serra angel', 'manaCost': '{3}...</td>\n",
       "      <td>[{'imageName': 'sprouting thrinax', 'manaCost'...</td>\n",
       "    </tr>\n",
       "    <tr>\n",
       "      <th>code</th>\n",
       "      <td>10E</td>\n",
       "      <td>2ED</td>\n",
       "      <td>3ED</td>\n",
       "      <td>4ED</td>\n",
       "      <td>5DN</td>\n",
       "      <td>5ED</td>\n",
       "      <td>6ED</td>\n",
       "      <td>7ED</td>\n",
       "      <td>8ED</td>\n",
       "      <td>9ED</td>\n",
       "      <td>...</td>\n",
       "      <td>pPOD</td>\n",
       "      <td>pPRE</td>\n",
       "      <td>pPRO</td>\n",
       "      <td>pREL</td>\n",
       "      <td>pSUM</td>\n",
       "      <td>pSUS</td>\n",
       "      <td>pWCQ</td>\n",
       "      <td>pWOR</td>\n",
       "      <td>pWOS</td>\n",
       "      <td>pWPN</td>\n",
       "    </tr>\n",
       "  </tbody>\n",
       "</table>\n",
       "<p>5 rows × 199 columns</p>\n",
       "</div>"
      ],
      "text/plain": [
       "                                                       10E  \\\n",
       "block                                                  NaN   \n",
       "booster  [rare, uncommon, uncommon, uncommon, common, c...   \n",
       "border                                               black   \n",
       "cards    [{'imageName': 'ancestor's chosen', 'manaCost'...   \n",
       "code                                                   10E   \n",
       "\n",
       "                                                       2ED  \\\n",
       "block                                                  NaN   \n",
       "booster  [rare, uncommon, uncommon, uncommon, common, c...   \n",
       "border                                               white   \n",
       "cards    [{'imageName': 'air elemental', 'manaCost': '{...   \n",
       "code                                                   2ED   \n",
       "\n",
       "                                                       3ED  \\\n",
       "block                                                  NaN   \n",
       "booster  [rare, uncommon, uncommon, uncommon, common, c...   \n",
       "border                                               white   \n",
       "cards    [{'imageName': 'air elemental', 'manaCost': '{...   \n",
       "code                                                   3ED   \n",
       "\n",
       "                                                       4ED  \\\n",
       "block                                                  NaN   \n",
       "booster  [rare, uncommon, uncommon, uncommon, common, c...   \n",
       "border                                               white   \n",
       "cards    [{'imageName': 'abomination', 'manaCost': '{3}...   \n",
       "code                                                   4ED   \n",
       "\n",
       "                                                       5DN  \\\n",
       "block                                             Mirrodin   \n",
       "booster  [rare, uncommon, uncommon, uncommon, common, c...   \n",
       "border                                               black   \n",
       "cards    [{'imageName': 'abuna's chant', 'manaCost': '{...   \n",
       "code                                                   5DN   \n",
       "\n",
       "                                                       5ED  \\\n",
       "block                                                  NaN   \n",
       "booster  [rare, uncommon, uncommon, uncommon, common, c...   \n",
       "border                                               white   \n",
       "cards    [{'imageName': 'abbey gargoyles', 'manaCost': ...   \n",
       "code                                                   5ED   \n",
       "\n",
       "                                                       6ED  \\\n",
       "block                                                  NaN   \n",
       "booster  [rare, uncommon, uncommon, uncommon, common, c...   \n",
       "border                                               white   \n",
       "cards    [{'imageName': 'animate wall', 'manaCost': '{W...   \n",
       "code                                                   6ED   \n",
       "\n",
       "                                                       7ED  \\\n",
       "block                                                  NaN   \n",
       "booster  [rare, uncommon, uncommon, uncommon, common, c...   \n",
       "border                                               white   \n",
       "cards    [{'imageName': 'angelic page', 'manaCost': '{1...   \n",
       "code                                                   7ED   \n",
       "\n",
       "                                                       8ED  \\\n",
       "block                                                  NaN   \n",
       "booster  [rare, uncommon, uncommon, uncommon, common, c...   \n",
       "border                                               white   \n",
       "cards    [{'imageName': 'angel of mercy', 'manaCost': '...   \n",
       "code                                                   8ED   \n",
       "\n",
       "                                                       9ED  \\\n",
       "block                                                  NaN   \n",
       "booster  [rare, uncommon, uncommon, uncommon, common, c...   \n",
       "border                                               white   \n",
       "cards    [{'imageName': 'angel of mercy', 'manaCost': '...   \n",
       "code                                                   9ED   \n",
       "\n",
       "                               ...                          \\\n",
       "block                          ...                           \n",
       "booster                        ...                           \n",
       "border                         ...                           \n",
       "cards                          ...                           \n",
       "code                           ...                           \n",
       "\n",
       "                                                      pPOD  \\\n",
       "block                                                  NaN   \n",
       "booster                                                NaN   \n",
       "border                                               black   \n",
       "cards    [{'imageName': 'armored pegasus', 'manaCost': ...   \n",
       "code                                                  pPOD   \n",
       "\n",
       "                                                      pPRE  \\\n",
       "block                                                  NaN   \n",
       "booster                                                NaN   \n",
       "border                                               black   \n",
       "cards    [{'imageName': 'dirtcowl wurm', 'manaCost': '{...   \n",
       "code                                                  pPRE   \n",
       "\n",
       "                                                      pPRO  \\\n",
       "block                                                  NaN   \n",
       "booster                                                NaN   \n",
       "border                                               black   \n",
       "cards    [{'imageName': 'eternal dragon', 'manaCost': '...   \n",
       "code                                                  pPRO   \n",
       "\n",
       "                                                      pREL  \\\n",
       "block                                                  NaN   \n",
       "booster                                                NaN   \n",
       "border                                               black   \n",
       "cards    [{'imageName': 'rukh egg', 'manaCost': '{3}{R}...   \n",
       "code                                                  pREL   \n",
       "\n",
       "                                                      pSUM  \\\n",
       "block                                                  NaN   \n",
       "booster                                                NaN   \n",
       "border                                               black   \n",
       "cards    [{'imageName': 'faerie conclave', 'artist': 'S...   \n",
       "code                                                  pSUM   \n",
       "\n",
       "                                                      pSUS  \\\n",
       "block                                                  NaN   \n",
       "booster                                                NaN   \n",
       "border                                               black   \n",
       "cards    [{'imageName': 'thran quarry', 'layout': 'norm...   \n",
       "code                                                  pSUS   \n",
       "\n",
       "                                                      pWCQ  \\\n",
       "block                                                  NaN   \n",
       "booster                                                NaN   \n",
       "border                                               black   \n",
       "cards    [{'imageName': 'vengevine', 'manaCost': '{2}{G...   \n",
       "code                                                  pWCQ   \n",
       "\n",
       "                                                      pWOR  \\\n",
       "block                                                  NaN   \n",
       "booster                                                NaN   \n",
       "border                                               black   \n",
       "cards    [{'imageName': 'balduvian horde', 'manaCost': ...   \n",
       "code                                                  pWOR   \n",
       "\n",
       "                                                      pWOS  \\\n",
       "block                                                  NaN   \n",
       "booster                                                NaN   \n",
       "border                                               black   \n",
       "cards    [{'imageName': 'serra angel', 'manaCost': '{3}...   \n",
       "code                                                  pWOS   \n",
       "\n",
       "                                                      pWPN  \n",
       "block                                                  NaN  \n",
       "booster                                                NaN  \n",
       "border                                               black  \n",
       "cards    [{'imageName': 'sprouting thrinax', 'manaCost'...  \n",
       "code                                                  pWPN  \n",
       "\n",
       "[5 rows x 199 columns]"
      ]
     },
     "execution_count": 3,
     "metadata": {},
     "output_type": "execute_result"
    }
   ],
   "source": [
    "raw.head()"
   ]
  },
  {
   "cell_type": "code",
   "execution_count": 4,
   "metadata": {
    "collapsed": false
   },
   "outputs": [],
   "source": [
    "def download_image_with_id(image_id, replace=False, show_inline=False):\n",
    "    fileName = \"./data/mtg/images/\" + image_id + \".jpg\"\n",
    "    exists = os.path.exists(fileName)\n",
    "    if replace or not exists:\n",
    "        print(\"Downloading image... \" + fileName)\n",
    "        req.urlretrieve(\"http://gatherer.wizards.com/Handlers/Image.ashx?multiverseid=\" + image_id + \"&type=card\", fileName)\n",
    "    \n",
    "    if show_inline:\n",
    "        img = Image.open(fileName, 'r')\n",
    "        plt.imshow(np.asarray(img))\n",
    "        plt.show()\n",
    "    \n",
    "    return fileName"
   ]
  },
  {
   "cell_type": "code",
   "execution_count": 5,
   "metadata": {
    "collapsed": false
   },
   "outputs": [
    {
     "name": "stdout",
     "output_type": "stream",
     "text": [
      "artist                                                Pete Venters\n",
      "cmc                                                              7\n",
      "colorIdentity                                                  [W]\n",
      "colors                                                     [White]\n",
      "flavor                         \"The will of all, by my hand done.\"\n",
      "foreignNames     [{'name': '祖灵的爱民', 'multiverseid': 147645, 'la...\n",
      "id                        ab1ab474019e4e76c66e2b524d354cb7c3212616\n",
      "imageName                                        ancestor's chosen\n",
      "layout                                                      normal\n",
      "legalities       [{'legality': 'Legal', 'format': 'Commander'},...\n",
      "manaCost                                                 {5}{W}{W}\n",
      "mciNumber                                                 10e/en/1\n",
      "multiverseid                                                130550\n",
      "name                                             Ancestor's Chosen\n",
      "number                                                           1\n",
      "originalText     First strike (This creature deals combat damag...\n",
      "originalType                               Creature — Human Cleric\n",
      "power                                                            4\n",
      "printings                                               [JUD, 10E]\n",
      "rarity                                                    Uncommon\n",
      "rulings                                                        NaN\n",
      "subtypes                                           [Human, Cleric]\n",
      "supertypes                                                     NaN\n",
      "text             First strike (This creature deals combat damag...\n",
      "toughness                                                        4\n",
      "type                                       Creature — Human Cleric\n",
      "types                                                   [Creature]\n",
      "variations                                                     NaN\n",
      "Name: 0, dtype: object\n"
     ]
    },
    {
     "data": {
      "image/png": "[encoded data removed]",
      "text/plain": [
       "<matplotlib.figure.Figure at 0x13e25c160>"
      ]
     },
     "metadata": {},
     "output_type": "display_data"
    },
    {
     "data": {
      "text/plain": [
       "'./data/mtg/images/130550.jpg'"
      ]
     },
     "execution_count": 5,
     "metadata": {},
     "output_type": "execute_result"
    }
   ],
   "source": [
    "sample_set = pd.DataFrame(raw[raw.columns.values[0]]).transpose()\n",
    "sample_card = pd.io.json.json_normalize(sample_set.cards.iloc[0]).iloc[0]\n",
    "print(sample_card)\n",
    "img_id = str(sample_card.multiverseid)\n",
    "download_image_with_id(img_id, show_inline=True)"
   ]
  },
  {
   "cell_type": "code",
   "execution_count": 6,
   "metadata": {
    "collapsed": false
   },
   "outputs": [],
   "source": [
    "del sample_set, sample_card, img_id"
   ]
  },
  {
   "cell_type": "code",
   "execution_count": 7,
   "metadata": {
    "collapsed": true
   },
   "outputs": [],
   "source": [
    "keeps = ['name', 'colorIdentity', 'colors', 'type', 'types', 'subtypes', 'supertypes', 'cmc', 'power', 'toughness', 'flavor', 'text', 'legalities', 'multiverseid']"
   ]
  },
  {
   "cell_type": "code",
   "execution_count": 8,
   "metadata": {
    "collapsed": false
   },
   "outputs": [],
   "source": [
    "mtg = []\n",
    "for col in raw.columns.values:\n",
    "    cards = pd.DataFrame(raw[col]['cards'])\n",
    "    cards = cards.loc[:,keeps]\n",
    "    cards['setname'] = col\n",
    "    mtg.append(cards)"
   ]
  },
  {
   "cell_type": "code",
   "execution_count": 9,
   "metadata": {
    "collapsed": false
   },
   "outputs": [],
   "source": [
    "del cards, raw"
   ]
  },
  {
   "cell_type": "code",
   "execution_count": 10,
   "metadata": {
    "collapsed": false
   },
   "outputs": [],
   "source": [
    "mtg = pd.concat(mtg, ignore_index=True)"
   ]
  },
  {
   "cell_type": "code",
   "execution_count": 11,
   "metadata": {
    "collapsed": false
   },
   "outputs": [
    {
     "data": {
      "text/plain": [
       "(31705, 15)"
      ]
     },
     "execution_count": 11,
     "metadata": {},
     "output_type": "execute_result"
    }
   ],
   "source": [
    "mtg.shape"
   ]
  },
  {
   "cell_type": "code",
   "execution_count": 12,
   "metadata": {
    "collapsed": false
   },
   "outputs": [
    {
     "data": {
      "text/html": [
       "<div>\n",
       "<table border=\"1\" class=\"dataframe\">\n",
       "  <thead>\n",
       "    <tr style=\"text-align: right;\">\n",
       "      <th></th>\n",
       "      <th>name</th>\n",
       "      <th>colorIdentity</th>\n",
       "      <th>colors</th>\n",
       "      <th>type</th>\n",
       "      <th>types</th>\n",
       "      <th>subtypes</th>\n",
       "      <th>supertypes</th>\n",
       "      <th>cmc</th>\n",
       "      <th>power</th>\n",
       "      <th>toughness</th>\n",
       "      <th>flavor</th>\n",
       "      <th>text</th>\n",
       "      <th>legalities</th>\n",
       "      <th>multiverseid</th>\n",
       "      <th>setname</th>\n",
       "    </tr>\n",
       "  </thead>\n",
       "  <tbody>\n",
       "    <tr>\n",
       "      <th>0</th>\n",
       "      <td>Ancestor's Chosen</td>\n",
       "      <td>[W]</td>\n",
       "      <td>[White]</td>\n",
       "      <td>Creature — Human Cleric</td>\n",
       "      <td>[Creature]</td>\n",
       "      <td>[Human, Cleric]</td>\n",
       "      <td>NaN</td>\n",
       "      <td>7.0</td>\n",
       "      <td>4</td>\n",
       "      <td>4</td>\n",
       "      <td>\"The will of all, by my hand done.\"</td>\n",
       "      <td>First strike (This creature deals combat damag...</td>\n",
       "      <td>[{'legality': 'Legal', 'format': 'Commander'},...</td>\n",
       "      <td>130550.0</td>\n",
       "      <td>10E</td>\n",
       "    </tr>\n",
       "    <tr>\n",
       "      <th>1</th>\n",
       "      <td>Angel of Mercy</td>\n",
       "      <td>[W]</td>\n",
       "      <td>[White]</td>\n",
       "      <td>Creature — Angel</td>\n",
       "      <td>[Creature]</td>\n",
       "      <td>[Angel]</td>\n",
       "      <td>NaN</td>\n",
       "      <td>5.0</td>\n",
       "      <td>3</td>\n",
       "      <td>3</td>\n",
       "      <td>Every tear shed is a drop of immortality.</td>\n",
       "      <td>Flying\\nWhen Angel of Mercy enters the battlef...</td>\n",
       "      <td>[{'legality': 'Legal', 'format': 'Commander'},...</td>\n",
       "      <td>129465.0</td>\n",
       "      <td>10E</td>\n",
       "    </tr>\n",
       "    <tr>\n",
       "      <th>2</th>\n",
       "      <td>Angelic Blessing</td>\n",
       "      <td>[W]</td>\n",
       "      <td>[White]</td>\n",
       "      <td>Sorcery</td>\n",
       "      <td>[Sorcery]</td>\n",
       "      <td>NaN</td>\n",
       "      <td>NaN</td>\n",
       "      <td>3.0</td>\n",
       "      <td>NaN</td>\n",
       "      <td>NaN</td>\n",
       "      <td>Only the warrior who can admit mortal weakness...</td>\n",
       "      <td>Target creature gets +3/+3 and gains flying un...</td>\n",
       "      <td>[{'legality': 'Legal', 'format': 'Commander'},...</td>\n",
       "      <td>129711.0</td>\n",
       "      <td>10E</td>\n",
       "    </tr>\n",
       "    <tr>\n",
       "      <th>3</th>\n",
       "      <td>Angelic Chorus</td>\n",
       "      <td>[W]</td>\n",
       "      <td>[White]</td>\n",
       "      <td>Enchantment</td>\n",
       "      <td>[Enchantment]</td>\n",
       "      <td>NaN</td>\n",
       "      <td>NaN</td>\n",
       "      <td>5.0</td>\n",
       "      <td>NaN</td>\n",
       "      <td>NaN</td>\n",
       "      <td>The harmony of the glorious is a dirge to the ...</td>\n",
       "      <td>Whenever a creature enters the battlefield und...</td>\n",
       "      <td>[{'legality': 'Legal', 'format': 'Commander'},...</td>\n",
       "      <td>129710.0</td>\n",
       "      <td>10E</td>\n",
       "    </tr>\n",
       "    <tr>\n",
       "      <th>4</th>\n",
       "      <td>Angelic Wall</td>\n",
       "      <td>[W]</td>\n",
       "      <td>[White]</td>\n",
       "      <td>Creature — Wall</td>\n",
       "      <td>[Creature]</td>\n",
       "      <td>[Wall]</td>\n",
       "      <td>NaN</td>\n",
       "      <td>2.0</td>\n",
       "      <td>0</td>\n",
       "      <td>4</td>\n",
       "      <td>\"The Ancestor protects us in ways we can't beg...</td>\n",
       "      <td>Defender (This creature can't attack.)\\nFlying</td>\n",
       "      <td>[{'legality': 'Legal', 'format': 'Commander'},...</td>\n",
       "      <td>129671.0</td>\n",
       "      <td>10E</td>\n",
       "    </tr>\n",
       "  </tbody>\n",
       "</table>\n",
       "</div>"
      ],
      "text/plain": [
       "                name colorIdentity   colors                     type  \\\n",
       "0  Ancestor's Chosen           [W]  [White]  Creature — Human Cleric   \n",
       "1     Angel of Mercy           [W]  [White]         Creature — Angel   \n",
       "2   Angelic Blessing           [W]  [White]                  Sorcery   \n",
       "3     Angelic Chorus           [W]  [White]              Enchantment   \n",
       "4       Angelic Wall           [W]  [White]          Creature — Wall   \n",
       "\n",
       "           types         subtypes supertypes  cmc power toughness  \\\n",
       "0     [Creature]  [Human, Cleric]        NaN  7.0     4         4   \n",
       "1     [Creature]          [Angel]        NaN  5.0     3         3   \n",
       "2      [Sorcery]              NaN        NaN  3.0   NaN       NaN   \n",
       "3  [Enchantment]              NaN        NaN  5.0   NaN       NaN   \n",
       "4     [Creature]           [Wall]        NaN  2.0     0         4   \n",
       "\n",
       "                                              flavor  \\\n",
       "0                \"The will of all, by my hand done.\"   \n",
       "1          Every tear shed is a drop of immortality.   \n",
       "2  Only the warrior who can admit mortal weakness...   \n",
       "3  The harmony of the glorious is a dirge to the ...   \n",
       "4  \"The Ancestor protects us in ways we can't beg...   \n",
       "\n",
       "                                                text  \\\n",
       "0  First strike (This creature deals combat damag...   \n",
       "1  Flying\\nWhen Angel of Mercy enters the battlef...   \n",
       "2  Target creature gets +3/+3 and gains flying un...   \n",
       "3  Whenever a creature enters the battlefield und...   \n",
       "4     Defender (This creature can't attack.)\\nFlying   \n",
       "\n",
       "                                          legalities  multiverseid setname  \n",
       "0  [{'legality': 'Legal', 'format': 'Commander'},...      130550.0     10E  \n",
       "1  [{'legality': 'Legal', 'format': 'Commander'},...      129465.0     10E  \n",
       "2  [{'legality': 'Legal', 'format': 'Commander'},...      129711.0     10E  \n",
       "3  [{'legality': 'Legal', 'format': 'Commander'},...      129710.0     10E  \n",
       "4  [{'legality': 'Legal', 'format': 'Commander'},...      129671.0     10E  "
      ]
     },
     "execution_count": 12,
     "metadata": {},
     "output_type": "execute_result"
    }
   ],
   "source": [
    "mtg.head()"
   ]
  },
  {
   "cell_type": "code",
   "execution_count": 13,
   "metadata": {
    "collapsed": false
   },
   "outputs": [
    {
     "data": {
      "text/plain": [
       "name              object\n",
       "colorIdentity     object\n",
       "colors            object\n",
       "type              object\n",
       "types             object\n",
       "subtypes          object\n",
       "supertypes        object\n",
       "cmc              float64\n",
       "power             object\n",
       "toughness         object\n",
       "flavor            object\n",
       "text              object\n",
       "legalities        object\n",
       "multiverseid     float64\n",
       "setname           object\n",
       "dtype: object"
      ]
     },
     "execution_count": 13,
     "metadata": {},
     "output_type": "execute_result"
    }
   ],
   "source": [
    "mtg.dtypes"
   ]
  },
  {
   "cell_type": "code",
   "execution_count": 14,
   "metadata": {
    "collapsed": false
   },
   "outputs": [
    {
     "data": {
      "text/plain": [
       "(29481, 15)"
      ]
     },
     "execution_count": 14,
     "metadata": {},
     "output_type": "execute_result"
    }
   ],
   "source": [
    "# Data trimming\n",
    "# Take only the ones with images\n",
    "mtg = mtg.loc[lambda mtg: ~mtg.multiverseid.isnull()]\n",
    "# Remove the ones without a type\n",
    "mtg = mtg.loc[~mtg.types.apply(lambda x: isinstance(x, float))]\n",
    "mtg.shape"
   ]
  },
  {
   "cell_type": "code",
   "execution_count": 15,
   "metadata": {
    "collapsed": false
   },
   "outputs": [],
   "source": [
    "# Recast dtypes\n",
    "mtg['multiverseid'] = mtg['multiverseid'].astype(int).astype(str)\n",
    "mtg[['power', 'toughness']] = mtg[['power', 'toughness']].apply(lambda x: pd.to_numeric(x, errors='coerce'))"
   ]
  },
  {
   "cell_type": "code",
   "execution_count": 16,
   "metadata": {
    "collapsed": false
   },
   "outputs": [
    {
     "data": {
      "text/plain": [
       "name              object\n",
       "colorIdentity     object\n",
       "colors            object\n",
       "type              object\n",
       "types             object\n",
       "subtypes          object\n",
       "supertypes        object\n",
       "cmc              float64\n",
       "power            float64\n",
       "toughness        float64\n",
       "flavor            object\n",
       "text              object\n",
       "legalities        object\n",
       "multiverseid      object\n",
       "setname           object\n",
       "dtype: object"
      ]
     },
     "execution_count": 16,
     "metadata": {},
     "output_type": "execute_result"
    }
   ],
   "source": [
    "mtg.dtypes"
   ]
  },
  {
   "cell_type": "code",
   "execution_count": 17,
   "metadata": {
    "collapsed": true
   },
   "outputs": [],
   "source": [
    "creatures = mtg.loc[mtg.types.apply(lambda x: 'Creature' in x)]\n",
    "creatures = creatures.loc[~creatures.subtypes.apply(lambda x: isinstance(x,float))]"
   ]
  },
  {
   "cell_type": "code",
   "execution_count": 18,
   "metadata": {
    "collapsed": false
   },
   "outputs": [
    {
     "name": "stdout",
     "output_type": "stream",
     "text": [
      "(13799, 15)\n"
     ]
    },
    {
     "data": {
      "text/html": [
       "<div>\n",
       "<table border=\"1\" class=\"dataframe\">\n",
       "  <thead>\n",
       "    <tr style=\"text-align: right;\">\n",
       "      <th></th>\n",
       "      <th>name</th>\n",
       "      <th>colorIdentity</th>\n",
       "      <th>colors</th>\n",
       "      <th>type</th>\n",
       "      <th>types</th>\n",
       "      <th>subtypes</th>\n",
       "      <th>supertypes</th>\n",
       "      <th>cmc</th>\n",
       "      <th>power</th>\n",
       "      <th>toughness</th>\n",
       "      <th>flavor</th>\n",
       "      <th>text</th>\n",
       "      <th>legalities</th>\n",
       "      <th>multiverseid</th>\n",
       "      <th>setname</th>\n",
       "    </tr>\n",
       "  </thead>\n",
       "  <tbody>\n",
       "    <tr>\n",
       "      <th>0</th>\n",
       "      <td>Ancestor's Chosen</td>\n",
       "      <td>[W]</td>\n",
       "      <td>[White]</td>\n",
       "      <td>Creature — Human Cleric</td>\n",
       "      <td>[Creature]</td>\n",
       "      <td>[Human, Cleric]</td>\n",
       "      <td>NaN</td>\n",
       "      <td>7.0</td>\n",
       "      <td>4.0</td>\n",
       "      <td>4.0</td>\n",
       "      <td>\"The will of all, by my hand done.\"</td>\n",
       "      <td>First strike (This creature deals combat damag...</td>\n",
       "      <td>[{'legality': 'Legal', 'format': 'Commander'},...</td>\n",
       "      <td>130550</td>\n",
       "      <td>10E</td>\n",
       "    </tr>\n",
       "    <tr>\n",
       "      <th>1</th>\n",
       "      <td>Angel of Mercy</td>\n",
       "      <td>[W]</td>\n",
       "      <td>[White]</td>\n",
       "      <td>Creature — Angel</td>\n",
       "      <td>[Creature]</td>\n",
       "      <td>[Angel]</td>\n",
       "      <td>NaN</td>\n",
       "      <td>5.0</td>\n",
       "      <td>3.0</td>\n",
       "      <td>3.0</td>\n",
       "      <td>Every tear shed is a drop of immortality.</td>\n",
       "      <td>Flying\\nWhen Angel of Mercy enters the battlef...</td>\n",
       "      <td>[{'legality': 'Legal', 'format': 'Commander'},...</td>\n",
       "      <td>129465</td>\n",
       "      <td>10E</td>\n",
       "    </tr>\n",
       "    <tr>\n",
       "      <th>4</th>\n",
       "      <td>Angelic Wall</td>\n",
       "      <td>[W]</td>\n",
       "      <td>[White]</td>\n",
       "      <td>Creature — Wall</td>\n",
       "      <td>[Creature]</td>\n",
       "      <td>[Wall]</td>\n",
       "      <td>NaN</td>\n",
       "      <td>2.0</td>\n",
       "      <td>0.0</td>\n",
       "      <td>4.0</td>\n",
       "      <td>\"The Ancestor protects us in ways we can't beg...</td>\n",
       "      <td>Defender (This creature can't attack.)\\nFlying</td>\n",
       "      <td>[{'legality': 'Legal', 'format': 'Commander'},...</td>\n",
       "      <td>129671</td>\n",
       "      <td>10E</td>\n",
       "    </tr>\n",
       "    <tr>\n",
       "      <th>6</th>\n",
       "      <td>Aven Cloudchaser</td>\n",
       "      <td>[W]</td>\n",
       "      <td>[White]</td>\n",
       "      <td>Creature — Bird Soldier</td>\n",
       "      <td>[Creature]</td>\n",
       "      <td>[Bird, Soldier]</td>\n",
       "      <td>NaN</td>\n",
       "      <td>4.0</td>\n",
       "      <td>2.0</td>\n",
       "      <td>2.0</td>\n",
       "      <td>\"At the Reapportionment, Eagle begged to be hu...</td>\n",
       "      <td>Flying (This creature can't be blocked except ...</td>\n",
       "      <td>[{'legality': 'Legal', 'format': 'Commander'},...</td>\n",
       "      <td>129470</td>\n",
       "      <td>10E</td>\n",
       "    </tr>\n",
       "    <tr>\n",
       "      <th>7</th>\n",
       "      <td>Ballista Squad</td>\n",
       "      <td>[W]</td>\n",
       "      <td>[White]</td>\n",
       "      <td>Creature — Human Rebel</td>\n",
       "      <td>[Creature]</td>\n",
       "      <td>[Human, Rebel]</td>\n",
       "      <td>NaN</td>\n",
       "      <td>4.0</td>\n",
       "      <td>2.0</td>\n",
       "      <td>2.0</td>\n",
       "      <td>The perfect antidote for a tightly packed form...</td>\n",
       "      <td>{X}{W}, {T}: Ballista Squad deals X damage to ...</td>\n",
       "      <td>[{'legality': 'Legal', 'format': 'Commander'},...</td>\n",
       "      <td>129477</td>\n",
       "      <td>10E</td>\n",
       "    </tr>\n",
       "  </tbody>\n",
       "</table>\n",
       "</div>"
      ],
      "text/plain": [
       "                name colorIdentity   colors                     type  \\\n",
       "0  Ancestor's Chosen           [W]  [White]  Creature — Human Cleric   \n",
       "1     Angel of Mercy           [W]  [White]         Creature — Angel   \n",
       "4       Angelic Wall           [W]  [White]          Creature — Wall   \n",
       "6   Aven Cloudchaser           [W]  [White]  Creature — Bird Soldier   \n",
       "7     Ballista Squad           [W]  [White]   Creature — Human Rebel   \n",
       "\n",
       "        types         subtypes supertypes  cmc  power  toughness  \\\n",
       "0  [Creature]  [Human, Cleric]        NaN  7.0    4.0        4.0   \n",
       "1  [Creature]          [Angel]        NaN  5.0    3.0        3.0   \n",
       "4  [Creature]           [Wall]        NaN  2.0    0.0        4.0   \n",
       "6  [Creature]  [Bird, Soldier]        NaN  4.0    2.0        2.0   \n",
       "7  [Creature]   [Human, Rebel]        NaN  4.0    2.0        2.0   \n",
       "\n",
       "                                              flavor  \\\n",
       "0                \"The will of all, by my hand done.\"   \n",
       "1          Every tear shed is a drop of immortality.   \n",
       "4  \"The Ancestor protects us in ways we can't beg...   \n",
       "6  \"At the Reapportionment, Eagle begged to be hu...   \n",
       "7  The perfect antidote for a tightly packed form...   \n",
       "\n",
       "                                                text  \\\n",
       "0  First strike (This creature deals combat damag...   \n",
       "1  Flying\\nWhen Angel of Mercy enters the battlef...   \n",
       "4     Defender (This creature can't attack.)\\nFlying   \n",
       "6  Flying (This creature can't be blocked except ...   \n",
       "7  {X}{W}, {T}: Ballista Squad deals X damage to ...   \n",
       "\n",
       "                                          legalities multiverseid setname  \n",
       "0  [{'legality': 'Legal', 'format': 'Commander'},...       130550     10E  \n",
       "1  [{'legality': 'Legal', 'format': 'Commander'},...       129465     10E  \n",
       "4  [{'legality': 'Legal', 'format': 'Commander'},...       129671     10E  \n",
       "6  [{'legality': 'Legal', 'format': 'Commander'},...       129470     10E  \n",
       "7  [{'legality': 'Legal', 'format': 'Commander'},...       129477     10E  "
      ]
     },
     "execution_count": 18,
     "metadata": {},
     "output_type": "execute_result"
    }
   ],
   "source": [
    "print(creatures.shape)\n",
    "creatures.head()"
   ]
  },
  {
   "cell_type": "code",
   "execution_count": 19,
   "metadata": {
    "collapsed": false
   },
   "outputs": [],
   "source": [
    "# Download Images for creatures\n",
    "# for image_id in creatures.multiverseid.values:\n",
    "#     download_image_with_id(image_id)\n",
    "# print(\"Done downloading...\")"
   ]
  },
  {
   "cell_type": "code",
   "execution_count": 20,
   "metadata": {
    "collapsed": false
   },
   "outputs": [],
   "source": [
    "flavs = creatures.loc[~creatures.flavor.apply(lambda x: isinstance(x, float))].flavor\n",
    "descriptions = np.array(flavs.values)\n",
    "del flavs"
   ]
  },
  {
   "cell_type": "code",
   "execution_count": 21,
   "metadata": {
    "collapsed": false
   },
   "outputs": [
    {
     "data": {
      "text/plain": [
       "array(['\"The will of all, by my hand done.\"',\n",
       "       'Every tear shed is a drop of immortality.',\n",
       "       '\"The Ancestor protects us in ways we can\\'t begin to comprehend.\"\\n—Mystic elder',\n",
       "       ...,\n",
       "       \"These small but intelligent Dragons and their Olesian allies held back the tide of Pashalik Mons's hordes of Goblin Raiders.\\nDragonCon 1994\",\n",
       "       'Loyal and passionate in battle, the Windseeker tribe roams the Green Lands near the Honeyed Sea.',\n",
       "       'The wizard Greensleeves called a Giant Badger to her aid in an battle with the desert mage Karli.'], dtype=object)"
      ]
     },
     "execution_count": 21,
     "metadata": {},
     "output_type": "execute_result"
    }
   ],
   "source": [
    "descriptions"
   ]
  },
  {
   "cell_type": "code",
   "execution_count": 22,
   "metadata": {
    "collapsed": false
   },
   "outputs": [],
   "source": [
    "n_desc = len(descriptions)\n",
    "all_text = ''.join(descriptions[:int(n_desc/2)]).lower()"
   ]
  },
  {
   "cell_type": "code",
   "execution_count": 23,
   "metadata": {
    "collapsed": false
   },
   "outputs": [],
   "source": [
    "chars = sorted(list(set(all_text)))\n",
    "char_to_int = dict((c, i) for i, c in enumerate(chars))\n",
    "int_to_char = dict((i, c) for i, c in enumerate(chars))"
   ]
  },
  {
   "cell_type": "code",
   "execution_count": 24,
   "metadata": {
    "collapsed": false
   },
   "outputs": [
    {
     "name": "stdout",
     "output_type": "stream",
     "text": [
      "Total Characters...  470509\n",
      "Vocab...  65\n"
     ]
    }
   ],
   "source": [
    "n_char = len(all_text)\n",
    "n_vocab = len(chars)\n",
    "print(\"Total Characters... \", n_char)\n",
    "print(\"Vocab... \", n_vocab)"
   ]
  },
  {
   "cell_type": "code",
   "execution_count": 25,
   "metadata": {
    "collapsed": false
   },
   "outputs": [
    {
     "name": "stdout",
     "output_type": "stream",
     "text": [
      "Total patterns...  470409\n"
     ]
    }
   ],
   "source": [
    "seq_length = 100\n",
    "dataX = []\n",
    "dataY = []\n",
    "for i in range(0, n_char - seq_length, 1):\n",
    "    seq_in = all_text[i : i+seq_length]\n",
    "    seq_out = all_text[i + seq_length]\n",
    "    dataX.append([char_to_int[char] for char in seq_in])\n",
    "    dataY.append(char_to_int[seq_out])\n",
    "n_patterns = len(dataX)\n",
    "print(\"Total patterns... \", n_patterns)"
   ]
  },
  {
   "cell_type": "code",
   "execution_count": 26,
   "metadata": {
    "collapsed": false
   },
   "outputs": [],
   "source": [
    "#  [samples, seq length, length of each vector]\n",
    "X = np.reshape(dataX, (n_patterns, seq_length, 1))\n",
    "# normalize\n",
    "X = X/ float(n_vocab)\n",
    "# one hot encode the output\n",
    "y = np_utils.to_categorical(dataY)"
   ]
  },
  {
   "cell_type": "code",
   "execution_count": 27,
   "metadata": {
    "collapsed": false
   },
   "outputs": [],
   "source": [
    "# Build model\n",
    "model = Sequential()\n",
    "model.add(LSTM(256, input_shape=(X.shape[1], X.shape[2]), return_sequences=True))\n",
    "model.add(Dropout(0.2))\n",
    "model.add(LSTM(256))\n",
    "model.add(Dropout(0.2))\n",
    "model.add(Dense(y.shape[1], activation='softmax'))"
   ]
  },
  {
   "cell_type": "code",
   "execution_count": 28,
   "metadata": {
    "collapsed": false
   },
   "outputs": [],
   "source": [
    "# Train or load model (comment out the unrequired one)\n",
    "# # Train...\n",
    "# model.compile(loss='categorical_crossentropy', optimizer='adam')\n",
    "# # save checkpoint\n",
    "# filepath = \"./saved/weights-improvement-{epoch:02d}-{loss:.4f}.hdf5\"\n",
    "# checkpoint = ModelCheckpoint(filepath, monitor='loss', verbose=1, save_best_only=True, mode='min')\n",
    "# callbacks_list = [checkpoint]\n",
    "# model.fit(X, y, nb_epoch=4, batch_size=64, callbacks=callbacks_list)\n",
    "\n",
    "# Load...\n",
    "filepath = \"./saved/weights-improvement-00-2.7186.hdf5\"\n",
    "model.load_weights(filepath)\n",
    "model.compile(loss='categorical_crossentropy', optimizer='adam')"
   ]
  },
  {
   "cell_type": "code",
   "execution_count": 29,
   "metadata": {
    "collapsed": true
   },
   "outputs": [],
   "source": [
    "def sample(preds, temperature=1.0):\n",
    "    # helper function to sample an index from a probability array\n",
    "    preds = np.asarray(preds).astype('float64')\n",
    "    preds = np.log(preds) / temperature\n",
    "    exp_preds = np.exp(preds)\n",
    "    preds = exp_preds / np.sum(exp_preds)\n",
    "    probas = np.random.multinomial(1, preds, 1)\n",
    "    return np.argmax(probas)"
   ]
  },
  {
   "cell_type": "code",
   "execution_count": 30,
   "metadata": {
    "collapsed": false
   },
   "outputs": [
    {
     "name": "stdout",
     "output_type": "stream",
     "text": [
      "Seed...   a sign that dinner is on the way.\"\n",
      "—klazina jansdotter, leader of the order of the sacred torch\"the\n",
      " sieel of the siee of the sart of the sarts of the sane of the sane of the siat of the sore of the s\n",
      "Done\n"
     ]
    }
   ],
   "source": [
    "# Generate more flavors...\n",
    "start = np.random.randint(0, len(dataX) - 1)\n",
    "pattern = dataX[start]\n",
    "print(\"Seed... \", ''.join([int_to_char[value] for value in pattern]))\n",
    "for i in range(100):\n",
    "    x = np.reshape(pattern, (1, len(pattern), 1))\n",
    "    x = x/float(n_vocab)\n",
    "    prediction = model.predict(x, verbose=0)\n",
    "    prediction = prediction.reshape(prediction.shape[1])\n",
    "    index = sample(prediction, 0.2)\n",
    "    result = int_to_char[index]\n",
    "    seq_in = [int_to_char[value] for value in pattern]\n",
    "    sys.stdout.write(result)\n",
    "    pattern.append(index)\n",
    "    pattern = pattern[1:len(pattern)]\n",
    "print(\"\\nDone\")"
   ]
  },
  {
   "cell_type": "code",
   "execution_count": null,
   "metadata": {
    "collapsed": true
   },
   "outputs": [],
   "source": []
  }
 ],
 "metadata": {
  "kernelspec": {
   "display_name": "Python 3",
   "language": "python",
   "name": "python3"
  },
  "language_info": {
   "codemirror_mode": {
    "name": "ipython",
    "version": 3
   },
   "file_extension": ".py",
   "mimetype": "text/x-python",
   "name": "python",
   "nbconvert_exporter": "python",
   "pygments_lexer": "ipython3",
   "version": "3.5.2"
  }
 },
 "nbformat": 4,
 "nbformat_minor": 1
}
