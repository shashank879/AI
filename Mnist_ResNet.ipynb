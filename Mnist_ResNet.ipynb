{
 "cells": [
  {
   "cell_type": "code",
   "execution_count": 2,
   "metadata": {
    "collapsed": false
   },
   "outputs": [],
   "source": [
    "import numpy as np\n",
    "import tensorflow as tf\n",
    "from tensorflow.examples.tutorials.mnist import input_data\n",
    "from ResNet import ResNet_5"
   ]
  },
  {
   "cell_type": "code",
   "execution_count": 3,
   "metadata": {
    "collapsed": false
   },
   "outputs": [
    {
     "name": "stdout",
     "output_type": "stream",
     "text": [
      "Extracting ./data/mnist/train-images-idx3-ubyte.gz\n",
      "Extracting ./data/mnist/train-labels-idx1-ubyte.gz\n",
      "Extracting ./data/mnist/t10k-images-idx3-ubyte.gz\n",
      "Extracting ./data/mnist/t10k-labels-idx1-ubyte.gz\n"
     ]
    }
   ],
   "source": [
    "mnist = input_data.read_data_sets(\"./data/mnist\", one_hot=True)"
   ]
  },
  {
   "cell_type": "code",
   "execution_count": 4,
   "metadata": {
    "collapsed": false
   },
   "outputs": [
    {
     "name": "stdout",
     "output_type": "stream",
     "text": [
      "(55000, 28, 28, 1)\n"
     ]
    }
   ],
   "source": [
    "train_data = mnist.train.images\n",
    "train_data = train_data.reshape([-1, 28, 28, 1])\n",
    "train_labels = mnist.train.labels\n",
    "print(np.shape(train_data))"
   ]
  },
  {
   "cell_type": "code",
   "execution_count": 6,
   "metadata": {
    "collapsed": false
   },
   "outputs": [
    {
     "name": "stdout",
     "output_type": "stream",
     "text": [
      "Session started\n"
     ]
    }
   ],
   "source": [
    "net = ResNet_5()"
   ]
  },
  {
   "cell_type": "code",
   "execution_count": 8,
   "metadata": {
    "collapsed": false
   },
   "outputs": [
    {
     "name": "stdout",
     "output_type": "stream",
     "text": [
      "Tensor(\"moments_7/normalize/mean:0\", shape=(28, 28, 16), dtype=float32) Tensor(\"moments_7/normalize/variance:0\", shape=(28, 28, 16), dtype=float32)\n",
      "Tensor(\"moments_8/normalize/mean:0\", shape=(28, 28, 16), dtype=float32) Tensor(\"moments_8/normalize/variance:0\", shape=(28, 28, 16), dtype=float32)\n",
      "Tensor(\"moments_9/normalize/mean:0\", shape=(28, 28, 16), dtype=float32) Tensor(\"moments_9/normalize/variance:0\", shape=(28, 28, 16), dtype=float32)\n",
      "Tensor(\"moments_10/normalize/mean:0\", shape=(28, 28, 16), dtype=float32) Tensor(\"moments_10/normalize/variance:0\", shape=(28, 28, 16), dtype=float32)\n",
      "Tensor(\"moments_11/normalize/mean:0\", shape=(14, 14, 32), dtype=float32) Tensor(\"moments_11/normalize/variance:0\", shape=(14, 14, 32), dtype=float32)\n",
      "Tensor(\"moments_12/normalize/mean:0\", shape=(14, 14, 32), dtype=float32) Tensor(\"moments_12/normalize/variance:0\", shape=(14, 14, 32), dtype=float32)\n",
      "Tensor(\"moments_13/normalize/mean:0\", shape=(7, 7, 64), dtype=float32) Tensor(\"moments_13/normalize/variance:0\", shape=(7, 7, 64), dtype=float32)\n"
     ]
    },
    {
     "data": {
      "text/plain": [
       "<tf.Tensor 'Add_25:0' shape=(?, 10) dtype=float32>"
      ]
     },
     "execution_count": 8,
     "metadata": {},
     "output_type": "execute_result"
    }
   ],
   "source": [
    "net.build_model(width=28, height=28, nChannels=1, nClasses=10)"
   ]
  },
  {
   "cell_type": "code",
   "execution_count": 9,
   "metadata": {
    "collapsed": false
   },
   "outputs": [
    {
     "name": "stdout",
     "output_type": "stream",
     "text": [
      "Epoch:  1 , Loss:  270.835035276\n",
      "Epoch:  2 , Loss:  75.1559978295\n",
      "Epoch:  3 , Loss:  50.9061584058\n",
      "Epoch:  4 , Loss:  38.765762312\n",
      "Epoch:  5 , Loss:  30.3945729956\n",
      "Calculating accuracy on the training set...\n",
      "Train Accuracy:  0.985745\n"
     ]
    }
   ],
   "source": [
    "net.train_model(data=train_data, outputs=train_labels)"
   ]
  },
  {
   "cell_type": "code",
   "execution_count": 11,
   "metadata": {
    "collapsed": false,
    "scrolled": true
   },
   "outputs": [],
   "source": [
    "test_x = mnist.test.images\n",
    "test_x = test_x.reshape([-1, 28, 28, 1])\n",
    "test_y = mnist.test.labels"
   ]
  },
  {
   "cell_type": "code",
   "execution_count": 17,
   "metadata": {
    "collapsed": false
   },
   "outputs": [
    {
     "name": "stdout",
     "output_type": "stream",
     "text": [
      "Class:  Tensor(\"Cast_6:0\", shape=(?,), dtype=float32)\n"
     ]
    }
   ],
   "source": [
    "net.eval_model(test_x[0:1,:,:,:])"
   ]
  },
  {
   "cell_type": "code",
   "execution_count": 18,
   "metadata": {
    "collapsed": false
   },
   "outputs": [
    {
     "name": "stdout",
     "output_type": "stream",
     "text": [
      "Session closed\n"
     ]
    }
   ],
   "source": [
    "net.close()"
   ]
  },
  {
   "cell_type": "code",
   "execution_count": null,
   "metadata": {
    "collapsed": true
   },
   "outputs": [],
   "source": []
  }
 ],
 "metadata": {
  "kernelspec": {
   "display_name": "Python 3",
   "language": "python",
   "name": "python3"
  },
  "language_info": {
   "codemirror_mode": {
    "name": "ipython",
    "version": 3
   },
   "file_extension": ".py",
   "mimetype": "text/x-python",
   "name": "python",
   "nbconvert_exporter": "python",
   "pygments_lexer": "ipython3",
   "version": "3.5.1"
  }
 },
 "nbformat": 4,
 "nbformat_minor": 1
}
