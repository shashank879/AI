{
 "cells": [
  {
   "cell_type": "code",
   "execution_count": 1,
   "metadata": {
    "collapsed": false
   },
   "outputs": [],
   "source": [
    "import numpy as np\n",
    "import tensorflow as tf\n",
    "from tensorflow.examples.tutorials.mnist import input_data\n",
    "from ResNet import ResNet_5"
   ]
  },
  {
   "cell_type": "code",
   "execution_count": 2,
   "metadata": {
    "collapsed": false
   },
   "outputs": [
    {
     "name": "stdout",
     "output_type": "stream",
     "text": [
      "Extracting ./data/mnist/train-images-idx3-ubyte.gz\n",
      "Extracting ./data/mnist/train-labels-idx1-ubyte.gz\n",
      "Extracting ./data/mnist/t10k-images-idx3-ubyte.gz\n",
      "Extracting ./data/mnist/t10k-labels-idx1-ubyte.gz\n"
     ]
    }
   ],
   "source": [
    "mnist = input_data.read_data_sets(\"./data/mnist\", one_hot=True)"
   ]
  },
  {
   "cell_type": "code",
   "execution_count": 3,
   "metadata": {
    "collapsed": false
   },
   "outputs": [
    {
     "name": "stdout",
     "output_type": "stream",
     "text": [
      "(55000, 28, 28, 1)\n"
     ]
    }
   ],
   "source": [
    "train_data = mnist.train.images\n",
    "train_data = train_data.reshape([-1, 28, 28, 1])\n",
    "train_labels = mnist.train.labels\n",
    "print(np.shape(train_data))"
   ]
  },
  {
   "cell_type": "code",
   "execution_count": 4,
   "metadata": {
    "collapsed": false
   },
   "outputs": [
    {
     "name": "stdout",
     "output_type": "stream",
     "text": [
      "Session started\n"
     ]
    }
   ],
   "source": [
    "net = ResNet_5()"
   ]
  },
  {
   "cell_type": "code",
   "execution_count": 5,
   "metadata": {
    "collapsed": false
   },
   "outputs": [
    {
     "name": "stdout",
     "output_type": "stream",
     "text": [
      "Tensor(\"moments/normalize/mean:0\", shape=(28, 28, 16), dtype=float32) Tensor(\"moments/normalize/variance:0\", shape=(28, 28, 16), dtype=float32)\n",
      "Tensor(\"moments_1/normalize/mean:0\", shape=(28, 28, 16), dtype=float32) Tensor(\"moments_1/normalize/variance:0\", shape=(28, 28, 16), dtype=float32)\n",
      "Tensor(\"moments_2/normalize/mean:0\", shape=(28, 28, 16), dtype=float32) Tensor(\"moments_2/normalize/variance:0\", shape=(28, 28, 16), dtype=float32)\n",
      "Tensor(\"moments_3/normalize/mean:0\", shape=(28, 28, 16), dtype=float32) Tensor(\"moments_3/normalize/variance:0\", shape=(28, 28, 16), dtype=float32)\n",
      "Tensor(\"moments_4/normalize/mean:0\", shape=(14, 14, 32), dtype=float32) Tensor(\"moments_4/normalize/variance:0\", shape=(14, 14, 32), dtype=float32)\n",
      "Tensor(\"moments_5/normalize/mean:0\", shape=(14, 14, 32), dtype=float32) Tensor(\"moments_5/normalize/variance:0\", shape=(14, 14, 32), dtype=float32)\n",
      "Tensor(\"moments_6/normalize/mean:0\", shape=(7, 7, 64), dtype=float32) Tensor(\"moments_6/normalize/variance:0\", shape=(7, 7, 64), dtype=float32)\n"
     ]
    },
    {
     "data": {
      "text/plain": [
       "<tf.Tensor 'Add_12:0' shape=(?, 10) dtype=float32>"
      ]
     },
     "execution_count": 5,
     "metadata": {},
     "output_type": "execute_result"
    }
   ],
   "source": [
    "net.build_model(width=28, height=28, nChannels=1, nClasses=10)"
   ]
  },
  {
   "cell_type": "code",
   "execution_count": 6,
   "metadata": {
    "collapsed": false
   },
   "outputs": [
    {
     "name": "stdout",
     "output_type": "stream",
     "text": [
      "Model restored...\n"
     ]
    }
   ],
   "source": [
    "net.load_model(\"resnet_5\")"
   ]
  },
  {
   "cell_type": "code",
   "execution_count": 7,
   "metadata": {
    "collapsed": false,
    "scrolled": true
   },
   "outputs": [],
   "source": [
    "test_x = mnist.test.images\n",
    "test_x = test_x.reshape([-1, 28, 28, 1])\n",
    "test_y = mnist.test.labels"
   ]
  },
  {
   "cell_type": "code",
   "execution_count": 8,
   "metadata": {
    "collapsed": false
   },
   "outputs": [
    {
     "name": "stdout",
     "output_type": "stream",
     "text": [
      "Calculating accuracy on the testing set...\n",
      "Test Accuracy:  0.9781\n"
     ]
    }
   ],
   "source": [
    "net.test_model(test_x, test_y)"
   ]
  },
  {
   "cell_type": "code",
   "execution_count": null,
   "metadata": {
    "collapsed": false
   },
   "outputs": [],
   "source": []
  }
 ],
 "metadata": {
  "kernelspec": {
   "display_name": "Python 3",
   "language": "python",
   "name": "python3"
  },
  "language_info": {
   "codemirror_mode": {
    "name": "ipython",
    "version": 3
   },
   "file_extension": ".py",
   "mimetype": "text/x-python",
   "name": "python",
   "nbconvert_exporter": "python",
   "pygments_lexer": "ipython3",
   "version": "3.5.1"
  }
 },
 "nbformat": 4,
 "nbformat_minor": 1
}
