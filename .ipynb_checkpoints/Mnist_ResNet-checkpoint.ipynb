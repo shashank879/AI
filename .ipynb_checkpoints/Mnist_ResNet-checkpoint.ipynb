{
 "cells": [
  {
   "cell_type": "code",
   "execution_count": 21,
   "metadata": {
    "collapsed": false
   },
   "outputs": [],
   "source": [
    "import numpy as np\n",
    "import tensorflow as tf\n",
    "from tensorflow.examples.tutorials.mnist import input_data\n",
    "from ResNet import ResNet_5"
   ]
  },
  {
   "cell_type": "code",
   "execution_count": 3,
   "metadata": {
    "collapsed": false
   },
   "outputs": [
    {
     "name": "stdout",
     "output_type": "stream",
     "text": [
      "Extracting ./data/mnist/train-images-idx3-ubyte.gz\n",
      "Extracting ./data/mnist/train-labels-idx1-ubyte.gz\n",
      "Extracting ./data/mnist/t10k-images-idx3-ubyte.gz\n",
      "Extracting ./data/mnist/t10k-labels-idx1-ubyte.gz\n"
     ]
    }
   ],
   "source": [
    "mnist = input_data.read_data_sets(\"./data/mnist\", one_hot=True)"
   ]
  },
  {
   "cell_type": "code",
   "execution_count": 4,
   "metadata": {
    "collapsed": false
   },
   "outputs": [
    {
     "name": "stdout",
     "output_type": "stream",
     "text": [
      "(55000, 28, 28, 1)\n"
     ]
    }
   ],
   "source": [
    "train_data = mnist.train.images\n",
    "train_data = train_data.reshape([-1, 28, 28, 1])\n",
    "train_labels = mnist.train.labels\n",
    "print(np.shape(train_data))"
   ]
  },
  {
   "cell_type": "code",
   "execution_count": 6,
   "metadata": {
    "collapsed": false
   },
   "outputs": [
    {
     "name": "stdout",
     "output_type": "stream",
     "text": [
      "Session started\n"
     ]
    }
   ],
   "source": [
    "net = ResNet_5()"
   ]
  },
  {
   "cell_type": "code",
   "execution_count": 19,
   "metadata": {
    "collapsed": false
   },
   "outputs": [
    {
     "name": "stdout",
     "output_type": "stream",
     "text": [
      "Tensor(\"moments_14/normalize/mean:0\", shape=(28, 28, 16), dtype=float32) Tensor(\"moments_14/normalize/variance:0\", shape=(28, 28, 16), dtype=float32)\n",
      "Tensor(\"moments_15/normalize/mean:0\", shape=(28, 28, 16), dtype=float32) Tensor(\"moments_15/normalize/variance:0\", shape=(28, 28, 16), dtype=float32)\n",
      "Tensor(\"moments_16/normalize/mean:0\", shape=(28, 28, 16), dtype=float32) Tensor(\"moments_16/normalize/variance:0\", shape=(28, 28, 16), dtype=float32)\n",
      "Tensor(\"moments_17/normalize/mean:0\", shape=(28, 28, 16), dtype=float32) Tensor(\"moments_17/normalize/variance:0\", shape=(28, 28, 16), dtype=float32)\n",
      "Tensor(\"moments_18/normalize/mean:0\", shape=(14, 14, 32), dtype=float32) Tensor(\"moments_18/normalize/variance:0\", shape=(14, 14, 32), dtype=float32)\n",
      "Tensor(\"moments_19/normalize/mean:0\", shape=(14, 14, 32), dtype=float32) Tensor(\"moments_19/normalize/variance:0\", shape=(14, 14, 32), dtype=float32)\n",
      "Tensor(\"moments_20/normalize/mean:0\", shape=(7, 7, 64), dtype=float32) Tensor(\"moments_20/normalize/variance:0\", shape=(7, 7, 64), dtype=float32)\n"
     ]
    },
    {
     "data": {
      "text/plain": [
       "<tf.Tensor 'Add_38:0' shape=(?, 10) dtype=float32>"
      ]
     },
     "execution_count": 19,
     "metadata": {},
     "output_type": "execute_result"
    }
   ],
   "source": [
    "net.build_model(width=28, height=28, nChannels=1, nClasses=10)"
   ]
  },
  {
   "cell_type": "code",
   "execution_count": 22,
   "metadata": {
    "collapsed": false
   },
   "outputs": [
    {
     "ename": "AttributeError",
     "evalue": "'ResNet_5' object has no attribute 'load_model'",
     "output_type": "error",
     "traceback": [
      "\u001b[0;31m---------------------------------------------------------------------------\u001b[0m",
      "\u001b[0;31mAttributeError\u001b[0m                            Traceback (most recent call last)",
      "\u001b[0;32m<ipython-input-22-7248291d4e61>\u001b[0m in \u001b[0;36m<module>\u001b[0;34m()\u001b[0m\n\u001b[0;32m----> 1\u001b[0;31m \u001b[0mnet\u001b[0m\u001b[0;34m.\u001b[0m\u001b[0mload_model\u001b[0m\u001b[0;34m(\u001b[0m\u001b[0;34m\"resnet_5\"\u001b[0m\u001b[0;34m)\u001b[0m\u001b[0;34m\u001b[0m\u001b[0m\n\u001b[0m",
      "\u001b[0;31mAttributeError\u001b[0m: 'ResNet_5' object has no attribute 'load_model'"
     ]
    }
   ],
   "source": [
    "net.load_model(\"resnet_5\")"
   ]
  },
  {
   "cell_type": "code",
   "execution_count": 11,
   "metadata": {
    "collapsed": false,
    "scrolled": true
   },
   "outputs": [],
   "source": [
    "test_x = mnist.test.images\n",
    "test_x = test_x.reshape([-1, 28, 28, 1])\n",
    "test_y = mnist.test.labels"
   ]
  },
  {
   "cell_type": "code",
   "execution_count": 17,
   "metadata": {
    "collapsed": false
   },
   "outputs": [
    {
     "name": "stdout",
     "output_type": "stream",
     "text": [
      "Class:  Tensor(\"Cast_6:0\", shape=(?,), dtype=float32)\n"
     ]
    }
   ],
   "source": [
    "net.eval_model(test_x[0:1,:,:,:])"
   ]
  },
  {
   "cell_type": "code",
   "execution_count": 18,
   "metadata": {
    "collapsed": false
   },
   "outputs": [
    {
     "name": "stdout",
     "output_type": "stream",
     "text": [
      "Session closed\n"
     ]
    }
   ],
   "source": [
    "net.close()"
   ]
  },
  {
   "cell_type": "code",
   "execution_count": null,
   "metadata": {
    "collapsed": true
   },
   "outputs": [],
   "source": []
  }
 ],
 "metadata": {
  "kernelspec": {
   "display_name": "Python 3",
   "language": "python",
   "name": "python3"
  },
  "language_info": {
   "codemirror_mode": {
    "name": "ipython",
    "version": 3
   },
   "file_extension": ".py",
   "mimetype": "text/x-python",
   "name": "python",
   "nbconvert_exporter": "python",
   "pygments_lexer": "ipython3",
   "version": "3.5.1"
  }
 },
 "nbformat": 4,
 "nbformat_minor": 1
}
